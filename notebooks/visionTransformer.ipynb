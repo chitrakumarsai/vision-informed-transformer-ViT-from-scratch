{
 "cells": [
  {
   "cell_type": "code",
   "execution_count": 71,
   "id": "4c40e34f",
   "metadata": {},
   "outputs": [],
   "source": [
    "import torch\n",
    "import torch.nn as nn\n",
    "import torchvision\n",
    "import matplotlib.pyplot as plt\n",
    "import torchvision.transforms as tranforms\n",
    "import torch.utils.data as dataloader"
   ]
  },
  {
   "cell_type": "code",
   "execution_count": 72,
   "id": "69868baa",
   "metadata": {},
   "outputs": [],
   "source": [
    "#tranforamtion from PIL format to tensor format\n",
    "tranformation_opration = tranforms.Compose([tranforms.ToTensor()])"
   ]
  },
  {
   "cell_type": "code",
   "execution_count": 73,
   "id": "0e8b7396",
   "metadata": {},
   "outputs": [],
   "source": [
    "#get PIL data\n",
    "train_dataset = torchvision.datasets.MNIST(root = \"../data/raw\", train=True, download=True, transform= tranformation_opration)\n",
    "val_dataset = torchvision.datasets.MNIST(root = \"../data/raw\", train=False, download=True, transform= tranformation_opration)"
   ]
  },
  {
   "cell_type": "code",
   "execution_count": 74,
   "id": "8e5bb4cc",
   "metadata": {},
   "outputs": [],
   "source": [
    "# define variables\n",
    "batch_size = 64\n",
    "num_classes = 10\n",
    "num_channels = 1\n",
    "image_size = 28\n",
    "patch_size = 7\n",
    "patch_num = (image_size // patch_size) ** 2\n",
    "attention_heads = 4\n",
    "embed_dim = 16\n",
    "transformer_blocks = 4\n",
    "mlp_nodes = 64\n",
    "learning_rate = 0.001\n",
    "epochs = 5"
   ]
  },
  {
   "cell_type": "code",
   "execution_count": 75,
   "id": "4c2da382",
   "metadata": {},
   "outputs": [],
   "source": [
    "# using dataloader\n",
    "train_data = dataloader.DataLoader(train_dataset, shuffle=True, batch_size=batch_size)\n",
    "val_data = dataloader.DataLoader(val_dataset, shuffle=True, batch_size=batch_size)"
   ]
  },
  {
   "cell_type": "code",
   "execution_count": 76,
   "id": "30a35482",
   "metadata": {},
   "outputs": [],
   "source": [
    "# class for Patchembedding - Part 1 of ViT architecture\n",
    "class PatchEmbedding(nn.Module):\n",
    "    def __init__(self):\n",
    "        super().__init__()\n",
    "        self.patch_embed = nn.Conv2d(num_channels, embed_dim, kernel_size= patch_size, stride= patch_size)\n",
    "\n",
    "    def forward(self,x):\n",
    "        x = self.patch_embed(x)\n",
    "        x = x.flatten(2)\n",
    "        x = x.transpose(1,2)\n",
    "        return x\n",
    "\n"
   ]
  },
  {
   "cell_type": "code",
   "execution_count": 77,
   "id": "44239f46",
   "metadata": {},
   "outputs": [],
   "source": [
    "# class for Transformer encoder - Part 2 of ViT architecture\n",
    "## Layer Normalization\n",
    "## Multihead attention\n",
    "## Layer Normalization\n",
    "## residuals\n",
    "## MLP activation\n",
    "\n",
    "class TransfomerEncoder(nn.Module):\n",
    "    def __init__(self):\n",
    "        super().__init__()\n",
    "        self.layer_norm1 = nn.LayerNorm(embed_dim)\n",
    "        self.multi_head_attention = nn.MultiheadAttention(embed_dim, attention_heads, batch_first=True)\n",
    "        self.layer_norm2 = nn.LayerNorm(embed_dim)\n",
    "        self.mlp = nn.Sequential(\n",
    "            nn.Linear(embed_dim, mlp_nodes),\n",
    "            nn.GELU(),\n",
    "            nn.Linear(mlp_nodes, embed_dim)\n",
    "        )\n",
    "    def forward(self, x):\n",
    "        residual1 = x\n",
    "        x = self.layer_norm1(x)\n",
    "        x = self.multi_head_attention(x, x, x)[0] + residual1\n",
    "        residual2 = x \n",
    "        x = self.layer_norm2(x)\n",
    "        x = self.mlp(x) + residual2\n",
    "        return x\n"
   ]
  },
  {
   "cell_type": "code",
   "execution_count": 78,
   "id": "6dc895e3",
   "metadata": {},
   "outputs": [],
   "source": [
    "# class for Multi head for classification - Part 3 of ViT architecture\n",
    "class MLP_Head(nn.Module):\n",
    "    def __init__(self):\n",
    "        super().__init__()\n",
    "        self.layer_norm3 = nn.LayerNorm(embed_dim)\n",
    "        self.mlp_head = nn.Sequential(\n",
    "            # nn.Linear(embed_dim),\n",
    "            nn.Linear(embed_dim, num_classes)\n",
    "        )\n",
    "    def forward(self, x):\n",
    "        # x = x[:,0]\n",
    "        x = self.layer_norm3(x)\n",
    "        x = self.mlp_head(x)\n",
    "        return x"
   ]
  },
  {
   "cell_type": "code",
   "execution_count": 79,
   "id": "34a861de",
   "metadata": {},
   "outputs": [],
   "source": [
    "class VisionTransfomer(nn.Module):\n",
    "    def __init__(self):\n",
    "        super().__init__()\n",
    "        self.patch_embedding = PatchEmbedding()\n",
    "        self.cls_token = nn.Parameter(torch.randn(1, 1, embed_dim))\n",
    "        self.position_embedding = nn.Parameter(torch.randn(1, patch_num + 1, embed_dim))\n",
    "        self.transfomer_blocks = nn.Sequential(*[TransfomerEncoder() for _ in range(transformer_blocks)])\n",
    "        self.mlp_head = MLP_Head()\n",
    "\n",
    "    def forward(self, x):\n",
    "        x = self.patch_embedding(x)\n",
    "        B = x.size(0)\n",
    "        cls_tokens = self.cls_token.repeat(B, 1, 1)\n",
    "        x = torch.cat((cls_tokens, x), 1)\n",
    "        x = x + self.position_embedding\n",
    "        x = self.transfomer_blocks(x)\n",
    "        x = x[:, 0]\n",
    "        x = self.mlp_head(x)\n",
    "        return x"
   ]
  },
  {
   "cell_type": "code",
   "execution_count": 80,
   "id": "4226ac89",
   "metadata": {},
   "outputs": [],
   "source": [
    "#optimizer\n",
    "#crossentropy\n",
    "device = torch.device(\"cuda:0\" if torch.cuda.is_available() else \"cpu\")\n",
    "model = VisionTransfomer().to(device=device)\n",
    "optimizer = torch.optim.Adam(model.parameters(), lr=learning_rate)\n",
    "criterion = nn.CrossEntropyLoss()"
   ]
  },
  {
   "cell_type": "code",
   "execution_count": 81,
   "id": "411ab697",
   "metadata": {},
   "outputs": [
    {
     "name": "stdout",
     "output_type": "stream",
     "text": [
      "\n",
      "Epoch 1\n",
      "  Batch   1: Loss = 2.3606, Accuracy = 3.12%\n",
      "  Batch 101: Loss = 1.3567, Accuracy = 59.38%\n",
      "  Batch 201: Loss = 0.7416, Accuracy = 79.69%\n",
      "  Batch 301: Loss = 0.5246, Accuracy = 79.69%\n",
      "  Batch 401: Loss = 0.5473, Accuracy = 89.06%\n",
      "  Batch 501: Loss = 0.3458, Accuracy = 92.19%\n",
      "  Batch 601: Loss = 0.5102, Accuracy = 81.25%\n",
      "  Batch 701: Loss = 0.3325, Accuracy = 93.75%\n",
      "  Batch 801: Loss = 0.1717, Accuracy = 95.31%\n",
      "  Batch 901: Loss = 0.3828, Accuracy = 87.50%\n",
      "==> Epoch 1 Summary: Total Loss = 629.7096, Accuracy = 79.81%\n",
      "\n",
      "Epoch 2\n",
      "  Batch   1: Loss = 0.3832, Accuracy = 92.19%\n",
      "  Batch 101: Loss = 0.3422, Accuracy = 89.06%\n",
      "  Batch 201: Loss = 0.3441, Accuracy = 87.50%\n",
      "  Batch 301: Loss = 0.1133, Accuracy = 96.88%\n",
      "  Batch 401: Loss = 0.3059, Accuracy = 90.62%\n",
      "  Batch 501: Loss = 0.1431, Accuracy = 96.88%\n",
      "  Batch 601: Loss = 0.0991, Accuracy = 95.31%\n",
      "  Batch 701: Loss = 0.1715, Accuracy = 92.19%\n",
      "  Batch 801: Loss = 0.0624, Accuracy = 98.44%\n",
      "  Batch 901: Loss = 0.1149, Accuracy = 93.75%\n",
      "==> Epoch 2 Summary: Total Loss = 202.4241, Accuracy = 93.64%\n",
      "\n",
      "Epoch 3\n",
      "  Batch   1: Loss = 0.1687, Accuracy = 92.19%\n",
      "  Batch 101: Loss = 0.1345, Accuracy = 96.88%\n",
      "  Batch 201: Loss = 0.2678, Accuracy = 92.19%\n",
      "  Batch 301: Loss = 0.1260, Accuracy = 96.88%\n",
      "  Batch 401: Loss = 0.0965, Accuracy = 96.88%\n",
      "  Batch 501: Loss = 0.1395, Accuracy = 95.31%\n",
      "  Batch 601: Loss = 0.2092, Accuracy = 93.75%\n",
      "  Batch 701: Loss = 0.2099, Accuracy = 92.19%\n",
      "  Batch 801: Loss = 0.0842, Accuracy = 95.31%\n",
      "  Batch 901: Loss = 0.0921, Accuracy = 96.88%\n",
      "==> Epoch 3 Summary: Total Loss = 152.0619, Accuracy = 95.07%\n",
      "\n",
      "Epoch 4\n",
      "  Batch   1: Loss = 0.0682, Accuracy = 96.88%\n",
      "  Batch 101: Loss = 0.2142, Accuracy = 93.75%\n",
      "  Batch 201: Loss = 0.0398, Accuracy = 100.00%\n",
      "  Batch 301: Loss = 0.0631, Accuracy = 98.44%\n",
      "  Batch 401: Loss = 0.2545, Accuracy = 90.62%\n",
      "  Batch 501: Loss = 0.3076, Accuracy = 92.19%\n",
      "  Batch 601: Loss = 0.0408, Accuracy = 100.00%\n",
      "  Batch 701: Loss = 0.1756, Accuracy = 95.31%\n",
      "  Batch 801: Loss = 0.2262, Accuracy = 93.75%\n",
      "  Batch 901: Loss = 0.1097, Accuracy = 95.31%\n",
      "==> Epoch 4 Summary: Total Loss = 124.9304, Accuracy = 95.90%\n",
      "\n",
      "Epoch 5\n",
      "  Batch   1: Loss = 0.2023, Accuracy = 93.75%\n",
      "  Batch 101: Loss = 0.1595, Accuracy = 96.88%\n",
      "  Batch 201: Loss = 0.1009, Accuracy = 95.31%\n",
      "  Batch 301: Loss = 0.1244, Accuracy = 95.31%\n",
      "  Batch 401: Loss = 0.1484, Accuracy = 93.75%\n",
      "  Batch 501: Loss = 0.1405, Accuracy = 95.31%\n",
      "  Batch 601: Loss = 0.1104, Accuracy = 96.88%\n",
      "  Batch 701: Loss = 0.0661, Accuracy = 98.44%\n",
      "  Batch 801: Loss = 0.3030, Accuracy = 92.19%\n",
      "  Batch 901: Loss = 0.1915, Accuracy = 95.31%\n",
      "==> Epoch 5 Summary: Total Loss = 107.5110, Accuracy = 96.42%\n"
     ]
    }
   ],
   "source": [
    "for epoch in range(5):\n",
    "    model.train()\n",
    "    total_loss = 0\n",
    "    correct_epoch = 0\n",
    "    total_epoch = 0\n",
    "    print(f\"\\nEpoch {epoch+1}\")\n",
    "\n",
    "    for batch_idx, (images, labels) in enumerate(train_data):\n",
    "        images, labels = images.to(device), labels.to(device)\n",
    "        optimizer.zero_grad()\n",
    "        outputs = model(images)\n",
    "\n",
    "        loss = criterion(outputs, labels)\n",
    "        loss.backward()\n",
    "        optimizer.step()\n",
    "\n",
    "        total_loss+=loss.item()\n",
    "        preds = outputs.argmax(dim=1)\n",
    "\n",
    "        correct = (preds == labels).sum().item()\n",
    "        accuracy = 100.0 * correct / labels.size(0)\n",
    "\n",
    "        correct_epoch += correct\n",
    "        total_epoch += labels.size(0)\n",
    "\n",
    "        if batch_idx % 100 == 0:\n",
    "            print(f\"  Batch {batch_idx+1:3d}: Loss = {loss.item():.4f}, Accuracy = {accuracy:.2f}%\")\n",
    "\n",
    "    epoch_acc = 100.0 * correct_epoch / total_epoch\n",
    "    print(f\"==> Epoch {epoch+1} Summary: Total Loss = {total_loss:.4f}, Accuracy = {epoch_acc:.2f}%\")\n"
   ]
  },
  {
   "cell_type": "code",
   "execution_count": 82,
   "id": "bc734ee4",
   "metadata": {},
   "outputs": [
    {
     "name": "stdout",
     "output_type": "stream",
     "text": [
      "\n",
      "==> Val Accuracy: 96.66%\n"
     ]
    }
   ],
   "source": [
    "model.eval()\n",
    "correct = 0\n",
    "total = 0\n",
    "\n",
    "with torch.no_grad():\n",
    "    for images, labels in val_data:\n",
    "        images, labels = images.to(device), labels.to(device)\n",
    "        outputs = model(images)\n",
    "        preds = outputs.argmax(dim=1)\n",
    "        correct += (preds == labels).sum().item()\n",
    "        total += labels.size(0)\n",
    "\n",
    "test_acc = 100.0 * correct / total\n",
    "print(f\"\\n==> Val Accuracy: {test_acc:.2f}%\")"
   ]
  },
  {
   "cell_type": "code",
   "execution_count": 83,
   "id": "0e9c32fe",
   "metadata": {},
   "outputs": [
    {
     "data": {
      "image/png": "[encoded data removed]",
      "text/plain": [
       "<Figure size 1200x400 with 20 Axes>"
      ]
     },
     "metadata": {},
     "output_type": "display_data"
    }
   ],
   "source": [
    "model.eval()\n",
    "images, labels = next(iter(val_data))\n",
    "images, labels = images.to(device), labels.to(device)\n",
    "\n",
    "with torch.no_grad():\n",
    "    outputs = model(images)\n",
    "    preds = outputs.argmax(dim=1)\n",
    "\n",
    "# Plot 10 test images with predictions\n",
    "plt.figure(figsize=(12, 4))\n",
    "for i in range(20):\n",
    "    plt.subplot(4, 5, i+1)\n",
    "    plt.imshow(images[i].squeeze(), cmap='gray')\n",
    "    plt.title(f\"Pred: {preds[i].item()}\\nTrue: {labels[i].item()}\")\n",
    "    plt.axis('off')\n",
    "plt.tight_layout()\n",
    "plt.show()"
   ]
  },
  {
   "cell_type": "code",
   "execution_count": 84,
   "id": "bfe1fb1b",
   "metadata": {},
   "outputs": [
    {
     "name": "stdout",
     "output_type": "stream",
     "text": [
      "Shape of images in a batch: torch.Size([64, 1, 28, 28])\n",
      "Shape of embedded data: torch.Size([64, 16, 16])\n",
      "torch.Size([1, 1, 16])\n"
     ]
    }
   ],
   "source": [
    "# Get one batch from the validation data\n",
    "images, labels = next(iter(val_data))\n",
    "\n",
    "# Print the shape of the images tensor\n",
    "print(\"Shape of images in a batch:\", images.shape)\n",
    "patch_embed = nn.Conv2d(num_channels, embed_dim, kernel_size=patch_size, stride=patch_size)\n",
    "embedded_data = patch_embed(images)\n",
    "embedded_data = embedded_data.flatten(2)\n",
    "embedded_data = embedded_data.transpose(1,2)\n",
    "print(\"Shape of embedded data:\", embedded_data.shape)\n",
    "print(torch.randn(1,1,embed_dim).shape)"
   ]
  },
  {
   "cell_type": "code",
   "execution_count": 85,
   "id": "4b8cc32e",
   "metadata": {},
   "outputs": [
    {
     "name": "stdout",
     "output_type": "stream",
     "text": [
      "Shape of input image tensor: torch.Size([64, 1, 28, 28])\n",
      "Shape of after conv image tensor: torch.Size([64, 16, 4, 4])\n",
      "torch.Size([64, 16, 16])\n",
      "torch.Size([64, 16, 16])\n"
     ]
    }
   ],
   "source": [
    "#to print dimensions -- check dimensions\n",
    "images, labels = next(iter(train_data))\n",
    "patch_embed = nn.Conv2d(num_channels, embed_dim, kernel_size= patch_size, stride= patch_size)\n",
    "embedded_image = patch_embed(images)\n",
    "print(\"Shape of input image tensor:\",images.shape)\n",
    "print(\"Shape of after conv image tensor:\",embedded_image.shape)\n",
    "print(embedded_image.flatten(2).shape)\n",
    "print(embedded_image.flatten(2).transpose(1, 2).shape)"
   ]
  }
 ],
 "metadata": {
  "kernelspec": {
   "display_name": "vision-informed-transformer-ViT-from-scratch",
   "language": "python",
   "name": "python3"
  },
  "language_info": {
   "codemirror_mode": {
    "name": "ipython",
    "version": 3
   },
   "file_extension": ".py",
   "mimetype": "text/x-python",
   "name": "python",
   "nbconvert_exporter": "python",
   "pygments_lexer": "ipython3",
   "version": "3.11.0"
  }
 },
 "nbformat": 4,
 "nbformat_minor": 5
}
